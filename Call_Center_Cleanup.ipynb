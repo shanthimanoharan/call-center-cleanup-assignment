{
 "cells": [
  {
   "cell_type": "markdown",
   "id": "331a1c4f",
   "metadata": {},
   "source": [
    "# Call Center Cleanup\n",
    "\n",
    "For this assignment, we will be working with call center data. You can start working on the assignment after the first lesson on Exploratory Data Analysis with pandas. Make sure to read the whole assignment before starting anything! As you code along in the Jupyter notebook, you are asked to make note of the results of your analysis. Do so by clicking on the results box and adding your notes beside each question.\n",
    "\n",
    "## Business Issue and Understanding\n",
    "\n",
    "You are working for a company that has two call centers: the North Call Center and the South Call Center. The company is looking to possibly hire five additional reps to enhance customer experience. Your task is to explore how efficient the current reps are in each branch to determine which branch would benefit from additional assistance.\n",
    "\n",
    "### How the Call Center Works\n",
    "\n",
    "Call center representatives are assigned queues. When calls are assigned to a queue, the call is assigned to the next person in line in the queue. After a call is assigned to a representative, the amount of time between assignment and the call starting is divided into busy minutes and not ready minutes. If the call is incoming and a customer is waiting on the phone for a rep, the time is split into three categories: busy minutes, not ready minutes, and incoming call wait time. Once the rep has the customer on the phone, there might be during call wait time, where the call is put on hold while the rep gets an answer for the customer.\n",
    "\n",
    "### Notes about the Dataset\n",
    "\n",
    "If you haven't worked in a call center before, these notes might help you throughout your analysis.\n",
    "\n",
    "* The call purpose is tagged for each call.\n",
    "* The time of the call is tagged in 1 hour blocks starting at 9:00 AM and ending at 5:00 PM.\n",
    "* Calls are tagged as incoming or outgoing.\n",
    "* Reps are assigned to queues. When the reps are working, they take calls in the order of their queue.\n",
    "* A call that is dropped due to technical error or missed by the center because they have reached maximum capacity is a lost call.\n",
    "* An abandoned call is when the customer hangs up because they have been waiting for too long.\n",
    "* Busy Minutes: the amount of time after a call comes in or needs to go out where the assigned rep is not available because they are busy with other customers.\n",
    "* Not Ready Minutes: the amount of time after a call comes in or needs to go out where the assigned rep is not available because they are not ready (for example, getting water).\n",
    "* Incoming Wait Time - amount of time after assigned rep is available to take the call customer waits for representative to pick up a call. This is tracked in seconds.\n",
    "* During Call Wait Time - amount of time during call that customer has to wait for representative\n",
    "\n",
    "## Getting Started\n",
    "\n",
    "You have two CSVs at your disposal, `NorthCallCenter.csv` and `SouthCallCenter.csv`. Import the appropriate libraries and create two dataframes, one called `north_df` and one called `south_df`."
   ]
  },
  {
   "cell_type": "code",
   "execution_count": 20,
   "id": "f362436b",
   "metadata": {},
   "outputs": [],
   "source": [
    "# Import the appropriate libraries with aliases\n",
    "import pandas as pd\n",
    "import numpy as np\n",
    "# Create two new dataframes\n",
    "north_callcenter_df= pd.read_csv(\"NorthCallCenter.csv\")\n",
    "south_callcenter_df = pd.read_csv(\"SouthCallCenter.csv\")"
   ]
  },
  {
   "cell_type": "markdown",
   "id": "b4d3484b",
   "metadata": {},
   "source": [
    "## Task 1: Exploratory Data Analysis\n",
    "\n",
    "Time to do some EDA! In the process of learning more about the two datasets, answer the following questions. Use the code blocks below to begin cleaning your data. At the end of the section, record your answers."
   ]
  },
  {
   "cell_type": "markdown",
   "id": "76898991",
   "metadata": {},
   "source": [
    "#### EDA Question 1A:  How many reps are in the North branch?  "
   ]
  },
  {
   "cell_type": "code",
   "execution_count": 21,
   "id": "ce3eb5e4",
   "metadata": {},
   "outputs": [
    {
     "name": "stdout",
     "output_type": "stream",
     "text": [
      "Number of Reps in North branch: \n"
     ]
    },
    {
     "data": {
      "text/plain": [
       "9"
      ]
     },
     "execution_count": 21,
     "metadata": {},
     "output_type": "execute_result"
    }
   ],
   "source": [
    "# EDA Question 1A solution below:\n",
    "print(\"Number of Reps in North branch: \") \n",
    "len(north_callcenter_df[\"Rep ID\"].unique())"
   ]
  },
  {
   "cell_type": "markdown",
   "id": "2a9b34d8",
   "metadata": {},
   "source": [
    "#### EDA Question 1B:  How many reps are in the South branch?  "
   ]
  },
  {
   "cell_type": "code",
   "execution_count": 22,
   "id": "3c715bbf",
   "metadata": {},
   "outputs": [
    {
     "name": "stdout",
     "output_type": "stream",
     "text": [
      "Number of Reps in South branch: \n"
     ]
    },
    {
     "data": {
      "text/plain": [
       "11"
      ]
     },
     "execution_count": 22,
     "metadata": {},
     "output_type": "execute_result"
    }
   ],
   "source": [
    "# EDA Question 1B solution Below:\n",
    "print(\"Number of Reps in South branch: \") \n",
    "len(south_callcenter_df[\"Rep ID\"].unique()) "
   ]
  },
  {
   "cell_type": "markdown",
   "id": "a872f045",
   "metadata": {},
   "source": [
    "#### EDA Question 2A:  What is the average busy minutes, not ready minutes, incoming wait time, and during call wait time for the North branch? "
   ]
  },
  {
   "cell_type": "code",
   "execution_count": 23,
   "id": "3759305f",
   "metadata": {},
   "outputs": [
    {
     "data": {
      "text/plain": [
       "Busy Minutes             9.99\n",
       "Not Ready Minutes        1.91\n",
       "Incoming Wait Time       3.05\n",
       "During Call Wait Time    2.97\n",
       "dtype: float64"
      ]
     },
     "execution_count": 23,
     "metadata": {},
     "output_type": "execute_result"
    }
   ],
   "source": [
    "# EDA Question 2A solution Below:\n",
    "north_callcenter_df[['Busy Minutes','Not Ready Minutes','Incoming Wait Time','During Call Wait Time']].mean().round(2)"
   ]
  },
  {
   "cell_type": "markdown",
   "id": "3851cf3e",
   "metadata": {},
   "source": [
    "#### EDA Question 2B:  What is the average busy minutes, not ready minutes, incoming wait time, and during call wait time for the South branch? "
   ]
  },
  {
   "cell_type": "code",
   "execution_count": 24,
   "id": "a77ec152",
   "metadata": {},
   "outputs": [
    {
     "data": {
      "text/plain": [
       "Busy Minutes             10.05\n",
       "Not Ready Minutes         1.91\n",
       "Incoming Wait Time        3.00\n",
       "During Call Wait Time     3.08\n",
       "dtype: float64"
      ]
     },
     "execution_count": 24,
     "metadata": {},
     "output_type": "execute_result"
    }
   ],
   "source": [
    "# EDA Question 2B solution Below:\n",
    "south_callcenter_df[['Busy Minutes','Not Ready Minutes','Incoming Wait Time','During Call Wait Time']].mean().round(2)"
   ]
  },
  {
   "cell_type": "markdown",
   "id": "75915553",
   "metadata": {},
   "source": [
    "#### EDA Question 3:  What is the number of calls taken for each time block(Both North and South combined)?"
   ]
  },
  {
   "cell_type": "code",
   "execution_count": 25,
   "id": "49566936",
   "metadata": {},
   "outputs": [
    {
     "data": {
      "text/html": [
       "<div>\n",
       "<style scoped>\n",
       "    .dataframe tbody tr th:only-of-type {\n",
       "        vertical-align: middle;\n",
       "    }\n",
       "\n",
       "    .dataframe tbody tr th {\n",
       "        vertical-align: top;\n",
       "    }\n",
       "\n",
       "    .dataframe thead tr th {\n",
       "        text-align: left;\n",
       "    }\n",
       "\n",
       "    .dataframe thead tr:last-of-type th {\n",
       "        text-align: right;\n",
       "    }\n",
       "</style>\n",
       "<table border=\"1\" class=\"dataframe\">\n",
       "  <thead>\n",
       "    <tr>\n",
       "      <th></th>\n",
       "      <th>Calls</th>\n",
       "    </tr>\n",
       "    <tr>\n",
       "      <th></th>\n",
       "      <th>sum</th>\n",
       "    </tr>\n",
       "    <tr>\n",
       "      <th>Time Block</th>\n",
       "      <th></th>\n",
       "    </tr>\n",
       "  </thead>\n",
       "  <tbody>\n",
       "    <tr>\n",
       "      <th>10:00 AM</th>\n",
       "      <td>99</td>\n",
       "    </tr>\n",
       "    <tr>\n",
       "      <th>11:00 AM</th>\n",
       "      <td>56</td>\n",
       "    </tr>\n",
       "    <tr>\n",
       "      <th>12:00 PM</th>\n",
       "      <td>120</td>\n",
       "    </tr>\n",
       "    <tr>\n",
       "      <th>1:00 PM</th>\n",
       "      <td>40</td>\n",
       "    </tr>\n",
       "    <tr>\n",
       "      <th>2:00 PM</th>\n",
       "      <td>65</td>\n",
       "    </tr>\n",
       "    <tr>\n",
       "      <th>3:00 PM</th>\n",
       "      <td>73</td>\n",
       "    </tr>\n",
       "    <tr>\n",
       "      <th>4:00 PM</th>\n",
       "      <td>53</td>\n",
       "    </tr>\n",
       "    <tr>\n",
       "      <th>5:00 PM</th>\n",
       "      <td>43</td>\n",
       "    </tr>\n",
       "    <tr>\n",
       "      <th>9:00 AM</th>\n",
       "      <td>10</td>\n",
       "    </tr>\n",
       "  </tbody>\n",
       "</table>\n",
       "</div>"
      ],
      "text/plain": [
       "           Calls\n",
       "             sum\n",
       "Time Block      \n",
       "10:00 AM      99\n",
       "11:00 AM      56\n",
       "12:00 PM     120\n",
       "1:00 PM       40\n",
       "2:00 PM       65\n",
       "3:00 PM       73\n",
       "4:00 PM       53\n",
       "5:00 PM       43\n",
       "9:00 AM       10"
      ]
     },
     "execution_count": 25,
     "metadata": {},
     "output_type": "execute_result"
    }
   ],
   "source": [
    "# EDA Question 3 solution Below:\n",
    "combined_df = pd.concat([north_callcenter_df,south_callcenter_df],axis=0)\n",
    "combined_df.groupby([\"Time Block\"]).agg({'Calls':['sum']})\n"
   ]
  },
  {
   "cell_type": "markdown",
   "id": "40b1fd3f",
   "metadata": {},
   "source": [
    "##### Record your answers for the EDA section below:\n",
    "- 1a) Reps in the North Branch = 9\n",
    "- 1b) Reps in the South Branch = 11\n",
    "  \n",
    "- 2a) North Branch, (round to the nearest hundredth):\n",
    "> - Busy Minutes = 9.99\n",
    "> - Not Ready Minutes = 1.91\n",
    "> - Incoming Wait Time = 3.05\n",
    "> - During Call Wait Time = 2.97\n",
    "- 2b) South Branch, (round to the nearest hundredth):\n",
    "> - Busy Minutes = 10.05\n",
    "> - Not Ready Minutes = 1.91\n",
    "> - Incoming Wait Time = 3.00\n",
    "> - During Call Wait Time = 3.08\n",
    "- 3) Total Calls taken for all branches per time block:\n",
    "> - 9:00AM   = 10\n",
    "> - 10:00AM  = 99\n",
    "> - 11:00AM  = 56\n",
    "> - 12:00PM  = 120\n",
    "> - 1:00PM   = 40\n",
    "> - 2:00PM   = 65\n",
    "> - 3:00PM   = 73\n",
    "> - 4:00PM   = 53\n",
    "> - 5:00PM   = 43\n",
    "\n"
   ]
  },
  {
   "cell_type": "markdown",
   "id": "366bfb19",
   "metadata": {},
   "source": [
    "## Task 2: Cleaning Your Data \n",
    "Now you need to clean up the datasets. When cleaning the datasets, you may find that there isn't dirty data to clean. That is okay! Some questions you need to answer about the data sets.\n",
    "* Add additional code blocks as needed to show how you came to your conclusions. Add comments in your code blocks to help others understand your thinking. "
   ]
  },
  {
   "cell_type": "markdown",
   "id": "c3564d69",
   "metadata": {},
   "source": [
    "#### Cleaning Question 1:  Is there any missing data and if yes explain what you would do with the missing data and why?"
   ]
  },
  {
   "cell_type": "code",
   "execution_count": 26,
   "id": "b77fb574",
   "metadata": {},
   "outputs": [
    {
     "name": "stdout",
     "output_type": "stream",
     "text": [
      "North Callcenter Missing data \n",
      "Unnamed: 0                 0\n",
      "Branch                     0\n",
      "Call Purpose               0\n",
      "Time Block                 0\n",
      "Incoming or Outgoing       0\n",
      "Queue                      0\n",
      "Rep ID                     0\n",
      "Sale                       0\n",
      "Lost Call                  0\n",
      "Abandoned                  0\n",
      "Busy Minutes               0\n",
      "Not Ready Minutes          0\n",
      "Incoming Wait Time       163\n",
      "During Call Wait Time      0\n",
      "Calls                      0\n",
      "dtype: int64\n",
      "South Callcenter Missing data\n",
      "Unnamed: 0                 0\n",
      "Branch                     0\n",
      "Call Purpose               0\n",
      "Time Block                 0\n",
      "Incoming or Outgoing       0\n",
      "Queue                      0\n",
      "Rep ID                     0\n",
      "Sale                       0\n",
      "Lost Call                  0\n",
      "Abandoned                  0\n",
      "Busy Minutes               0\n",
      "Not Ready Minutes          0\n",
      "Incoming Wait Time       188\n",
      "During Call Wait Time      0\n",
      "Calls                      0\n",
      "dtype: int64\n"
     ]
    }
   ],
   "source": [
    "# Question 1 solution below\n",
    "print(\"North Callcenter Missing data \")\n",
    "missing_north_df = north_callcenter_df.isna().sum()\n",
    "print(missing_north_df)\n",
    "print(\"South Callcenter Missing data\")\n",
    "missing_south_df = south_callcenter_df.isna().sum()\n",
    "print(missing_south_df)"
   ]
  },
  {
   "cell_type": "markdown",
   "id": "0dc5c568-40db-4889-b82b-64610d8058d2",
   "metadata": {},
   "source": [
    "#### Record your answer below:\n",
    "\n",
    "> Your Answer:  \"Incoming Wait Time \" column is null in 163 records for North CallCenter and 188 records for South CallCenter. It doesnt need to be rectified because incoming wait time is not applicable for outgoing call records. "
   ]
  },
  {
   "cell_type": "markdown",
   "id": "dc47f020",
   "metadata": {},
   "source": [
    "#### Cleaning Question 2:  In the North data set, there are two separate \"YES\" values for a sale. Why and how did you rectify the issue?"
   ]
  },
  {
   "cell_type": "code",
   "execution_count": 27,
   "id": "4e0fbad6",
   "metadata": {},
   "outputs": [
    {
     "data": {
      "text/plain": [
       "array(['NO', 'YES'], dtype=object)"
      ]
     },
     "execution_count": 27,
     "metadata": {},
     "output_type": "execute_result"
    }
   ],
   "source": [
    "# Cleaning Question 2 solution below:\n",
    "north_callcenter_df[\"Sale\"].unique()\n",
    "north_callcenter_df['Sale'].str.rstrip().unique()"
   ]
  },
  {
   "cell_type": "markdown",
   "id": "cf81b612-eb6b-45a6-ac8e-d6f4e08131a8",
   "metadata": {},
   "source": [
    "##### Record your answer by below:\n",
    "> Your Answer: Sale column in the North data set has two separate values for YES due to incorrect data entry - one without any space and one with trailing space. This can be rectified by invoking the rstrip() function to strip the trailing space."
   ]
  },
  {
   "cell_type": "markdown",
   "id": "715f375a",
   "metadata": {},
   "source": [
    "#### Cleaning Question 3:  Are there duplicates in the two data sets? If there are, how did you handle them?"
   ]
  },
  {
   "cell_type": "code",
   "execution_count": 28,
   "id": "2323673a",
   "metadata": {},
   "outputs": [
    {
     "data": {
      "text/plain": [
       "np.int64(0)"
      ]
     },
     "execution_count": 28,
     "metadata": {},
     "output_type": "execute_result"
    }
   ],
   "source": [
    "# Cleaning Question 3 solution below:\n",
    "north_callcenter_df.duplicated().sum()\n",
    "south_callcenter_df.duplicated().sum()"
   ]
  },
  {
   "cell_type": "markdown",
   "id": "4fbfe2e8-490a-48dc-b0ca-599879076c62",
   "metadata": {},
   "source": [
    "##### Record your answer below:\n",
    "> Your Answer: There are no duplicates in both the datasets."
   ]
  },
  {
   "cell_type": "markdown",
   "id": "8ffaa865",
   "metadata": {},
   "source": [
    "#### Cleaning Question 4:  Is any of the data in the two data sets unnecessary? If yes, how did you handle it?"
   ]
  },
  {
   "cell_type": "code",
   "execution_count": 29,
   "id": "78b45e70",
   "metadata": {},
   "outputs": [],
   "source": [
    "# Cleaning Question 4 solution below:\n",
    "north_callcenter_df.drop(['Sale'], axis=1,inplace = True)\n",
    "south_callcenter_df.drop(['Sale'], axis=1, inplace = True)"
   ]
  },
  {
   "cell_type": "markdown",
   "id": "689e76b9-64d2-45d7-883a-b8c4d822e0c8",
   "metadata": {},
   "source": [
    "##### Record your answer below:\n",
    "> Your Answer: Sale column seems to be unnecessary in context of this particular analysis of identifying the efficiency of the call center.  It can be handled by removing the column from the analysis by using the dataFrame.drop()."
   ]
  },
  {
   "cell_type": "markdown",
   "id": "73342a9a",
   "metadata": {},
   "source": [
    "## Task 3: Data Manipulation\n",
    "Before you begin answering any questions, combine the two datasets together to create a third dataframe called df. You can use this third dataframe to compare the two call centers to company-wide trends.\n",
    "* Add additional code blocks as needed to show how you came to your conclusions. Add comments in your code blocks to help others understand your thinking. Record your answer below."
   ]
  },
  {
   "cell_type": "code",
   "execution_count": 40,
   "id": "e9705c34",
   "metadata": {},
   "outputs": [
    {
     "data": {
      "text/html": [
       "<div>\n",
       "<style scoped>\n",
       "    .dataframe tbody tr th:only-of-type {\n",
       "        vertical-align: middle;\n",
       "    }\n",
       "\n",
       "    .dataframe tbody tr th {\n",
       "        vertical-align: top;\n",
       "    }\n",
       "\n",
       "    .dataframe thead th {\n",
       "        text-align: right;\n",
       "    }\n",
       "</style>\n",
       "<table border=\"1\" class=\"dataframe\">\n",
       "  <thead>\n",
       "    <tr style=\"text-align: right;\">\n",
       "      <th></th>\n",
       "      <th>Unnamed: 0</th>\n",
       "      <th>Branch</th>\n",
       "      <th>Call Purpose</th>\n",
       "      <th>Time Block</th>\n",
       "      <th>Incoming or Outgoing</th>\n",
       "      <th>Queue</th>\n",
       "      <th>Rep ID</th>\n",
       "      <th>Lost Call</th>\n",
       "      <th>Abandoned</th>\n",
       "      <th>Busy Minutes</th>\n",
       "      <th>Not Ready Minutes</th>\n",
       "      <th>Incoming Wait Time</th>\n",
       "      <th>During Call Wait Time</th>\n",
       "      <th>Calls</th>\n",
       "    </tr>\n",
       "  </thead>\n",
       "  <tbody>\n",
       "    <tr>\n",
       "      <th>0</th>\n",
       "      <td>0</td>\n",
       "      <td>North</td>\n",
       "      <td>Complaint</td>\n",
       "      <td>9:00 AM</td>\n",
       "      <td>Incoming</td>\n",
       "      <td>B</td>\n",
       "      <td>Brent</td>\n",
       "      <td>0</td>\n",
       "      <td>1</td>\n",
       "      <td>9</td>\n",
       "      <td>2</td>\n",
       "      <td>1.0</td>\n",
       "      <td>4</td>\n",
       "      <td>1</td>\n",
       "    </tr>\n",
       "    <tr>\n",
       "      <th>1</th>\n",
       "      <td>1</td>\n",
       "      <td>North</td>\n",
       "      <td>Sales Support</td>\n",
       "      <td>11:00 AM</td>\n",
       "      <td>Incoming</td>\n",
       "      <td>A</td>\n",
       "      <td>Cam</td>\n",
       "      <td>0</td>\n",
       "      <td>0</td>\n",
       "      <td>11</td>\n",
       "      <td>1</td>\n",
       "      <td>1.0</td>\n",
       "      <td>3</td>\n",
       "      <td>1</td>\n",
       "    </tr>\n",
       "    <tr>\n",
       "      <th>2</th>\n",
       "      <td>2</td>\n",
       "      <td>North</td>\n",
       "      <td>Sales Support</td>\n",
       "      <td>11:00 AM</td>\n",
       "      <td>Incoming</td>\n",
       "      <td>B</td>\n",
       "      <td>Todd</td>\n",
       "      <td>0</td>\n",
       "      <td>0</td>\n",
       "      <td>9</td>\n",
       "      <td>3</td>\n",
       "      <td>1.0</td>\n",
       "      <td>3</td>\n",
       "      <td>1</td>\n",
       "    </tr>\n",
       "    <tr>\n",
       "      <th>3</th>\n",
       "      <td>3</td>\n",
       "      <td>North</td>\n",
       "      <td>Sales Support</td>\n",
       "      <td>4:00 PM</td>\n",
       "      <td>Incoming</td>\n",
       "      <td>B</td>\n",
       "      <td>Brent</td>\n",
       "      <td>0</td>\n",
       "      <td>0</td>\n",
       "      <td>11</td>\n",
       "      <td>2</td>\n",
       "      <td>1.0</td>\n",
       "      <td>4</td>\n",
       "      <td>1</td>\n",
       "    </tr>\n",
       "    <tr>\n",
       "      <th>4</th>\n",
       "      <td>4</td>\n",
       "      <td>North</td>\n",
       "      <td>Product Support</td>\n",
       "      <td>12:00 PM</td>\n",
       "      <td>Incoming</td>\n",
       "      <td>B</td>\n",
       "      <td>Brent</td>\n",
       "      <td>0</td>\n",
       "      <td>0</td>\n",
       "      <td>8</td>\n",
       "      <td>2</td>\n",
       "      <td>1.0</td>\n",
       "      <td>4</td>\n",
       "      <td>1</td>\n",
       "    </tr>\n",
       "    <tr>\n",
       "      <th>...</th>\n",
       "      <td>...</td>\n",
       "      <td>...</td>\n",
       "      <td>...</td>\n",
       "      <td>...</td>\n",
       "      <td>...</td>\n",
       "      <td>...</td>\n",
       "      <td>...</td>\n",
       "      <td>...</td>\n",
       "      <td>...</td>\n",
       "      <td>...</td>\n",
       "      <td>...</td>\n",
       "      <td>...</td>\n",
       "      <td>...</td>\n",
       "      <td>...</td>\n",
       "    </tr>\n",
       "    <tr>\n",
       "      <th>554</th>\n",
       "      <td>309</td>\n",
       "      <td>South</td>\n",
       "      <td>Product Support</td>\n",
       "      <td>5:00 PM</td>\n",
       "      <td>Outgoing</td>\n",
       "      <td>D</td>\n",
       "      <td>Helga</td>\n",
       "      <td>0</td>\n",
       "      <td>0</td>\n",
       "      <td>10</td>\n",
       "      <td>3</td>\n",
       "      <td>NaN</td>\n",
       "      <td>4</td>\n",
       "      <td>1</td>\n",
       "    </tr>\n",
       "    <tr>\n",
       "      <th>555</th>\n",
       "      <td>310</td>\n",
       "      <td>South</td>\n",
       "      <td>Product Support</td>\n",
       "      <td>5:00 PM</td>\n",
       "      <td>Outgoing</td>\n",
       "      <td>C</td>\n",
       "      <td>Susan</td>\n",
       "      <td>0</td>\n",
       "      <td>0</td>\n",
       "      <td>12</td>\n",
       "      <td>3</td>\n",
       "      <td>NaN</td>\n",
       "      <td>4</td>\n",
       "      <td>1</td>\n",
       "    </tr>\n",
       "    <tr>\n",
       "      <th>556</th>\n",
       "      <td>311</td>\n",
       "      <td>South</td>\n",
       "      <td>Product Support</td>\n",
       "      <td>5:00 PM</td>\n",
       "      <td>Outgoing</td>\n",
       "      <td>C</td>\n",
       "      <td>Sandy</td>\n",
       "      <td>0</td>\n",
       "      <td>0</td>\n",
       "      <td>9</td>\n",
       "      <td>3</td>\n",
       "      <td>NaN</td>\n",
       "      <td>4</td>\n",
       "      <td>1</td>\n",
       "    </tr>\n",
       "    <tr>\n",
       "      <th>557</th>\n",
       "      <td>312</td>\n",
       "      <td>South</td>\n",
       "      <td>Product Support</td>\n",
       "      <td>5:00 PM</td>\n",
       "      <td>Outgoing</td>\n",
       "      <td>C</td>\n",
       "      <td>Eric</td>\n",
       "      <td>0</td>\n",
       "      <td>0</td>\n",
       "      <td>10</td>\n",
       "      <td>1</td>\n",
       "      <td>NaN</td>\n",
       "      <td>2</td>\n",
       "      <td>1</td>\n",
       "    </tr>\n",
       "    <tr>\n",
       "      <th>558</th>\n",
       "      <td>313</td>\n",
       "      <td>South</td>\n",
       "      <td>Product Support</td>\n",
       "      <td>5:00 PM</td>\n",
       "      <td>Outgoing</td>\n",
       "      <td>D</td>\n",
       "      <td>George</td>\n",
       "      <td>0</td>\n",
       "      <td>0</td>\n",
       "      <td>10</td>\n",
       "      <td>2</td>\n",
       "      <td>NaN</td>\n",
       "      <td>3</td>\n",
       "      <td>1</td>\n",
       "    </tr>\n",
       "  </tbody>\n",
       "</table>\n",
       "<p>559 rows × 14 columns</p>\n",
       "</div>"
      ],
      "text/plain": [
       "     Unnamed: 0 Branch     Call Purpose Time Block Incoming or Outgoing Queue  \\\n",
       "0             0  North        Complaint    9:00 AM             Incoming     B   \n",
       "1             1  North    Sales Support   11:00 AM             Incoming     A   \n",
       "2             2  North    Sales Support   11:00 AM             Incoming     B   \n",
       "3             3  North    Sales Support    4:00 PM             Incoming     B   \n",
       "4             4  North  Product Support   12:00 PM             Incoming     B   \n",
       "..          ...    ...              ...        ...                  ...   ...   \n",
       "554         309  South  Product Support    5:00 PM             Outgoing     D   \n",
       "555         310  South  Product Support    5:00 PM             Outgoing     C   \n",
       "556         311  South  Product Support    5:00 PM             Outgoing     C   \n",
       "557         312  South  Product Support    5:00 PM             Outgoing     C   \n",
       "558         313  South  Product Support    5:00 PM             Outgoing     D   \n",
       "\n",
       "     Rep ID  Lost Call  Abandoned  Busy Minutes  Not Ready Minutes  \\\n",
       "0     Brent          0          1             9                  2   \n",
       "1       Cam          0          0            11                  1   \n",
       "2      Todd          0          0             9                  3   \n",
       "3     Brent          0          0            11                  2   \n",
       "4     Brent          0          0             8                  2   \n",
       "..      ...        ...        ...           ...                ...   \n",
       "554   Helga          0          0            10                  3   \n",
       "555   Susan          0          0            12                  3   \n",
       "556   Sandy          0          0             9                  3   \n",
       "557    Eric          0          0            10                  1   \n",
       "558  George          0          0            10                  2   \n",
       "\n",
       "     Incoming Wait Time  During Call Wait Time  Calls  \n",
       "0                   1.0                      4      1  \n",
       "1                   1.0                      3      1  \n",
       "2                   1.0                      3      1  \n",
       "3                   1.0                      4      1  \n",
       "4                   1.0                      4      1  \n",
       "..                  ...                    ...    ...  \n",
       "554                 NaN                      4      1  \n",
       "555                 NaN                      4      1  \n",
       "556                 NaN                      4      1  \n",
       "557                 NaN                      2      1  \n",
       "558                 NaN                      3      1  \n",
       "\n",
       "[559 rows x 14 columns]"
      ]
     },
     "execution_count": 40,
     "metadata": {},
     "output_type": "execute_result"
    }
   ],
   "source": [
    "# Create dataframe for the entire company named df\n",
    "df = pd.concat([north_callcenter_df,south_callcenter_df],axis=0,ignore_index=True)\n",
    "df\n"
   ]
  },
  {
   "cell_type": "markdown",
   "id": "7e87dfd1",
   "metadata": {},
   "source": [
    "#### Manipulation Question 1:  Group by Rep ID and sum the resulting structure. Sort by calls to determine which rep in each branch has the highest number of calls."
   ]
  },
  {
   "cell_type": "code",
   "execution_count": 41,
   "id": "3953f09a",
   "metadata": {},
   "outputs": [
    {
     "data": {
      "text/html": [
       "<div>\n",
       "<style scoped>\n",
       "    .dataframe tbody tr th:only-of-type {\n",
       "        vertical-align: middle;\n",
       "    }\n",
       "\n",
       "    .dataframe tbody tr th {\n",
       "        vertical-align: top;\n",
       "    }\n",
       "\n",
       "    .dataframe thead th {\n",
       "        text-align: right;\n",
       "    }\n",
       "</style>\n",
       "<table border=\"1\" class=\"dataframe\">\n",
       "  <thead>\n",
       "    <tr style=\"text-align: right;\">\n",
       "      <th></th>\n",
       "      <th></th>\n",
       "      <th>Unnamed: 0</th>\n",
       "      <th>Call Purpose</th>\n",
       "      <th>Time Block</th>\n",
       "      <th>Incoming or Outgoing</th>\n",
       "      <th>Queue</th>\n",
       "      <th>Lost Call</th>\n",
       "      <th>Abandoned</th>\n",
       "      <th>Busy Minutes</th>\n",
       "      <th>Not Ready Minutes</th>\n",
       "      <th>Incoming Wait Time</th>\n",
       "      <th>During Call Wait Time</th>\n",
       "      <th>Calls</th>\n",
       "    </tr>\n",
       "    <tr>\n",
       "      <th>Branch</th>\n",
       "      <th>Rep ID</th>\n",
       "      <th></th>\n",
       "      <th></th>\n",
       "      <th></th>\n",
       "      <th></th>\n",
       "      <th></th>\n",
       "      <th></th>\n",
       "      <th></th>\n",
       "      <th></th>\n",
       "      <th></th>\n",
       "      <th></th>\n",
       "      <th></th>\n",
       "      <th></th>\n",
       "    </tr>\n",
       "  </thead>\n",
       "  <tbody>\n",
       "    <tr>\n",
       "      <th rowspan=\"5\" valign=\"top\">North</th>\n",
       "      <th>Brent</th>\n",
       "      <td>4840</td>\n",
       "      <td>ComplaintSales SupportProduct SupportComplaint...</td>\n",
       "      <td>9:00 AM4:00 PM12:00 PM12:00 PM3:00 PM1:00 PM10...</td>\n",
       "      <td>IncomingIncomingIncomingIncomingIncomingIncomi...</td>\n",
       "      <td>BBBBBBBBBBBBBBBBBBBBBBBBBBBBBBBBBBBBB</td>\n",
       "      <td>0</td>\n",
       "      <td>1</td>\n",
       "      <td>362</td>\n",
       "      <td>71</td>\n",
       "      <td>17.0</td>\n",
       "      <td>117</td>\n",
       "      <td>37</td>\n",
       "    </tr>\n",
       "    <tr>\n",
       "      <th>Lilly</th>\n",
       "      <td>3375</td>\n",
       "      <td>Product SupportSales SupportSales SupportProdu...</td>\n",
       "      <td>2:00 PM10:00 AM11:00 AM2:00 PM10:00 AM12:00 PM...</td>\n",
       "      <td>IncomingIncomingIncomingIncomingIncomingIncomi...</td>\n",
       "      <td>BBBBBBBBBBBBBBBBBBBBBBBBBBBBBB</td>\n",
       "      <td>0</td>\n",
       "      <td>2</td>\n",
       "      <td>307</td>\n",
       "      <td>59</td>\n",
       "      <td>37.0</td>\n",
       "      <td>88</td>\n",
       "      <td>30</td>\n",
       "    </tr>\n",
       "    <tr>\n",
       "      <th>Duke</th>\n",
       "      <td>2999</td>\n",
       "      <td>Product SupportProduct SupportComplaintComplai...</td>\n",
       "      <td>2:00 PM3:00 PM9:00 AM1:00 PM10:00 AM12:00 PM10...</td>\n",
       "      <td>IncomingIncomingIncomingIncomingIncomingIncomi...</td>\n",
       "      <td>BBBBBBBBBBBBBBBBBBBBBBBBBBBBB</td>\n",
       "      <td>2</td>\n",
       "      <td>0</td>\n",
       "      <td>292</td>\n",
       "      <td>56</td>\n",
       "      <td>39.0</td>\n",
       "      <td>85</td>\n",
       "      <td>29</td>\n",
       "    </tr>\n",
       "    <tr>\n",
       "      <th>Todd</th>\n",
       "      <td>4252</td>\n",
       "      <td>Sales SupportProduct SupportSales SupportSales...</td>\n",
       "      <td>11:00 AM4:00 PM10:00 AM12:00 PM12:00 PM2:00 PM...</td>\n",
       "      <td>IncomingIncomingIncomingIncomingIncomingIncomi...</td>\n",
       "      <td>BBBBBBBBBBBBBBBBBBBBBBBBBBBBB</td>\n",
       "      <td>1</td>\n",
       "      <td>0</td>\n",
       "      <td>296</td>\n",
       "      <td>58</td>\n",
       "      <td>21.0</td>\n",
       "      <td>97</td>\n",
       "      <td>29</td>\n",
       "    </tr>\n",
       "    <tr>\n",
       "      <th>Joe</th>\n",
       "      <td>3178</td>\n",
       "      <td>Product SupportProduct SupportSales SupportSal...</td>\n",
       "      <td>2:00 PM4:00 PM11:00 AM12:00 PM12:00 PM10:00 AM...</td>\n",
       "      <td>IncomingIncomingIncomingIncomingIncomingIncomi...</td>\n",
       "      <td>AAAAAAAAAAAAAAAAAAAAAAAAAA</td>\n",
       "      <td>0</td>\n",
       "      <td>0</td>\n",
       "      <td>256</td>\n",
       "      <td>49</td>\n",
       "      <td>36.0</td>\n",
       "      <td>81</td>\n",
       "      <td>26</td>\n",
       "    </tr>\n",
       "    <tr>\n",
       "      <th rowspan=\"5\" valign=\"top\">South</th>\n",
       "      <th>Eric</th>\n",
       "      <td>5039</td>\n",
       "      <td>Sales SupportComplaintSales SupportSales Suppo...</td>\n",
       "      <td>10:00 AM1:00 PM10:00 AM12:00 PM2:00 PM3:00 PM3...</td>\n",
       "      <td>IncomingIncomingIncomingIncomingIncomingIncomi...</td>\n",
       "      <td>CCCCCCCCCCCCCCCCCCCCCCCCCCCCCCCCCCC</td>\n",
       "      <td>0</td>\n",
       "      <td>0</td>\n",
       "      <td>361</td>\n",
       "      <td>54</td>\n",
       "      <td>47.0</td>\n",
       "      <td>112</td>\n",
       "      <td>35</td>\n",
       "    </tr>\n",
       "    <tr>\n",
       "      <th>Randy</th>\n",
       "      <td>4576</td>\n",
       "      <td>Product SupportProduct SupportComplaintComplai...</td>\n",
       "      <td>2:00 PM5:00 PM11:00 AM12:00 PM10:00 AM1:00 PM3...</td>\n",
       "      <td>IncomingIncomingIncomingIncomingIncomingIncomi...</td>\n",
       "      <td>DDDDDDDDDDDDDDDDDDDDDDDDDDDDDDDDD</td>\n",
       "      <td>3</td>\n",
       "      <td>1</td>\n",
       "      <td>320</td>\n",
       "      <td>66</td>\n",
       "      <td>47.0</td>\n",
       "      <td>98</td>\n",
       "      <td>33</td>\n",
       "    </tr>\n",
       "    <tr>\n",
       "      <th>Sandy</th>\n",
       "      <td>4694</td>\n",
       "      <td>Sales SupportProduct SupportProduct SupportCom...</td>\n",
       "      <td>12:00 PM11:00 AM12:00 PM1:00 PM12:00 PM10:00 A...</td>\n",
       "      <td>IncomingIncomingIncomingIncomingIncomingIncomi...</td>\n",
       "      <td>CCCCCCCCCCCCCCCCCCCCCCCCCCCCCCCC</td>\n",
       "      <td>1</td>\n",
       "      <td>0</td>\n",
       "      <td>325</td>\n",
       "      <td>60</td>\n",
       "      <td>34.0</td>\n",
       "      <td>100</td>\n",
       "      <td>32</td>\n",
       "    </tr>\n",
       "    <tr>\n",
       "      <th>Helga</th>\n",
       "      <td>5236</td>\n",
       "      <td>Product SupportComplaintComplaintSales Support...</td>\n",
       "      <td>3:00 PM3:00 PM5:00 PM10:00 AM11:00 AM3:00 PM11...</td>\n",
       "      <td>IncomingIncomingIncomingIncomingIncomingIncomi...</td>\n",
       "      <td>DDDDDDDDDDDDDDDDDDDDDDDDDDDDDDD</td>\n",
       "      <td>0</td>\n",
       "      <td>2</td>\n",
       "      <td>292</td>\n",
       "      <td>58</td>\n",
       "      <td>36.0</td>\n",
       "      <td>95</td>\n",
       "      <td>31</td>\n",
       "    </tr>\n",
       "    <tr>\n",
       "      <th>George</th>\n",
       "      <td>4620</td>\n",
       "      <td>Product SupportProduct SupportProduct SupportC...</td>\n",
       "      <td>3:00 PM4:00 PM2:00 PM12:00 PM10:00 AM4:00 PM3:...</td>\n",
       "      <td>IncomingIncomingIncomingIncomingIncomingIncomi...</td>\n",
       "      <td>DDDDDDDDDDDDDDDDDDDDDDDDDDDDD</td>\n",
       "      <td>0</td>\n",
       "      <td>0</td>\n",
       "      <td>298</td>\n",
       "      <td>53</td>\n",
       "      <td>41.0</td>\n",
       "      <td>87</td>\n",
       "      <td>29</td>\n",
       "    </tr>\n",
       "  </tbody>\n",
       "</table>\n",
       "</div>"
      ],
      "text/plain": [
       "               Unnamed: 0                                       Call Purpose  \\\n",
       "Branch Rep ID                                                                  \n",
       "North  Brent         4840  ComplaintSales SupportProduct SupportComplaint...   \n",
       "       Lilly         3375  Product SupportSales SupportSales SupportProdu...   \n",
       "       Duke          2999  Product SupportProduct SupportComplaintComplai...   \n",
       "       Todd          4252  Sales SupportProduct SupportSales SupportSales...   \n",
       "       Joe           3178  Product SupportProduct SupportSales SupportSal...   \n",
       "South  Eric          5039  Sales SupportComplaintSales SupportSales Suppo...   \n",
       "       Randy         4576  Product SupportProduct SupportComplaintComplai...   \n",
       "       Sandy         4694  Sales SupportProduct SupportProduct SupportCom...   \n",
       "       Helga         5236  Product SupportComplaintComplaintSales Support...   \n",
       "       George        4620  Product SupportProduct SupportProduct SupportC...   \n",
       "\n",
       "                                                      Time Block  \\\n",
       "Branch Rep ID                                                      \n",
       "North  Brent   9:00 AM4:00 PM12:00 PM12:00 PM3:00 PM1:00 PM10...   \n",
       "       Lilly   2:00 PM10:00 AM11:00 AM2:00 PM10:00 AM12:00 PM...   \n",
       "       Duke    2:00 PM3:00 PM9:00 AM1:00 PM10:00 AM12:00 PM10...   \n",
       "       Todd    11:00 AM4:00 PM10:00 AM12:00 PM12:00 PM2:00 PM...   \n",
       "       Joe     2:00 PM4:00 PM11:00 AM12:00 PM12:00 PM10:00 AM...   \n",
       "South  Eric    10:00 AM1:00 PM10:00 AM12:00 PM2:00 PM3:00 PM3...   \n",
       "       Randy   2:00 PM5:00 PM11:00 AM12:00 PM10:00 AM1:00 PM3...   \n",
       "       Sandy   12:00 PM11:00 AM12:00 PM1:00 PM12:00 PM10:00 A...   \n",
       "       Helga   3:00 PM3:00 PM5:00 PM10:00 AM11:00 AM3:00 PM11...   \n",
       "       George  3:00 PM4:00 PM2:00 PM12:00 PM10:00 AM4:00 PM3:...   \n",
       "\n",
       "                                            Incoming or Outgoing  \\\n",
       "Branch Rep ID                                                      \n",
       "North  Brent   IncomingIncomingIncomingIncomingIncomingIncomi...   \n",
       "       Lilly   IncomingIncomingIncomingIncomingIncomingIncomi...   \n",
       "       Duke    IncomingIncomingIncomingIncomingIncomingIncomi...   \n",
       "       Todd    IncomingIncomingIncomingIncomingIncomingIncomi...   \n",
       "       Joe     IncomingIncomingIncomingIncomingIncomingIncomi...   \n",
       "South  Eric    IncomingIncomingIncomingIncomingIncomingIncomi...   \n",
       "       Randy   IncomingIncomingIncomingIncomingIncomingIncomi...   \n",
       "       Sandy   IncomingIncomingIncomingIncomingIncomingIncomi...   \n",
       "       Helga   IncomingIncomingIncomingIncomingIncomingIncomi...   \n",
       "       George  IncomingIncomingIncomingIncomingIncomingIncomi...   \n",
       "\n",
       "                                               Queue  Lost Call  Abandoned  \\\n",
       "Branch Rep ID                                                                \n",
       "North  Brent   BBBBBBBBBBBBBBBBBBBBBBBBBBBBBBBBBBBBB          0          1   \n",
       "       Lilly          BBBBBBBBBBBBBBBBBBBBBBBBBBBBBB          0          2   \n",
       "       Duke            BBBBBBBBBBBBBBBBBBBBBBBBBBBBB          2          0   \n",
       "       Todd            BBBBBBBBBBBBBBBBBBBBBBBBBBBBB          1          0   \n",
       "       Joe                AAAAAAAAAAAAAAAAAAAAAAAAAA          0          0   \n",
       "South  Eric      CCCCCCCCCCCCCCCCCCCCCCCCCCCCCCCCCCC          0          0   \n",
       "       Randy       DDDDDDDDDDDDDDDDDDDDDDDDDDDDDDDDD          3          1   \n",
       "       Sandy        CCCCCCCCCCCCCCCCCCCCCCCCCCCCCCCC          1          0   \n",
       "       Helga         DDDDDDDDDDDDDDDDDDDDDDDDDDDDDDD          0          2   \n",
       "       George          DDDDDDDDDDDDDDDDDDDDDDDDDDDDD          0          0   \n",
       "\n",
       "               Busy Minutes  Not Ready Minutes  Incoming Wait Time  \\\n",
       "Branch Rep ID                                                        \n",
       "North  Brent            362                 71                17.0   \n",
       "       Lilly            307                 59                37.0   \n",
       "       Duke             292                 56                39.0   \n",
       "       Todd             296                 58                21.0   \n",
       "       Joe              256                 49                36.0   \n",
       "South  Eric             361                 54                47.0   \n",
       "       Randy            320                 66                47.0   \n",
       "       Sandy            325                 60                34.0   \n",
       "       Helga            292                 58                36.0   \n",
       "       George           298                 53                41.0   \n",
       "\n",
       "               During Call Wait Time  Calls  \n",
       "Branch Rep ID                                \n",
       "North  Brent                     117     37  \n",
       "       Lilly                      88     30  \n",
       "       Duke                       85     29  \n",
       "       Todd                       97     29  \n",
       "       Joe                        81     26  \n",
       "South  Eric                      112     35  \n",
       "       Randy                      98     33  \n",
       "       Sandy                     100     32  \n",
       "       Helga                      95     31  \n",
       "       George                     87     29  "
      ]
     },
     "execution_count": 41,
     "metadata": {},
     "output_type": "execute_result"
    }
   ],
   "source": [
    "# Manipulation Question solution below:\n",
    "grouped_df = df.groupby(['Branch', 'Rep ID']).sum()\n",
    "sorted_df = grouped_df.sort_values(['Branch', 'Calls'], ascending=[True, False])\n",
    "sorted_df.groupby('Branch').head()"
   ]
  },
  {
   "cell_type": "markdown",
   "id": "7c29838c-1402-4e4b-94c9-050515d8dd18",
   "metadata": {},
   "source": [
    "##### Record your answer below\n",
    "Rep with the hightest number of calls and their total calls:\n",
    "- North Branch = Brent with 37 calls\n",
    "- South Branch = Eric with 35 calls"
   ]
  },
  {
   "cell_type": "markdown",
   "id": "809293b9",
   "metadata": {},
   "source": [
    "#### Manipulation Question 2:  The average call abandonment rate is a KPI when it comes to determining call center efficiency. As you may recall, abandoned calls are calls where the customer hangs up due to long call times. What is the average call abandonment rate for each branch and the whole company? Do any of these fall out of the optimal range of 2-5%?"
   ]
  },
  {
   "cell_type": "code",
   "execution_count": 32,
   "id": "3dff7534",
   "metadata": {},
   "outputs": [
    {
     "name": "stdout",
     "output_type": "stream",
     "text": [
      "2.86\n",
      "1.27\n",
      "1.97\n"
     ]
    }
   ],
   "source": [
    "# Manipulation Question 2 solution below:\n",
    "abandoned_north_df= north_callcenter_df['Abandoned'].mean().round(4) * 100\n",
    "print(abandoned_north_df)\n",
    "abandoned_south_df = south_callcenter_df['Abandoned'].mean().round(4) * 100\n",
    "print(abandoned_south_df)\n",
    "abandoned_df=df['Abandoned'].mean().round(4) * 100\n",
    "print(abandoned_df)"
   ]
  },
  {
   "cell_type": "markdown",
   "id": "c284596f-218f-4291-81b6-718ea5671feb",
   "metadata": {},
   "source": [
    "##### Record your answer below:\n",
    "Average Call Abandonment Rates (round to the nearest hundredth):\n",
    "- North Branch = 2.86%\n",
    "- South Branch = 1.27%\n",
    "- Company Wide = 1.97%\n",
    "- Do any of these fall out of the optimal range of 2-5%? Yes South CallCenter abandonment rate is 1.27% which falls out of the optimal range of 2-5%"
   ]
  },
  {
   "cell_type": "markdown",
   "id": "598bb1bf",
   "metadata": {},
   "source": [
    "#### Manipulation Question 3:  Service level is another KPI when it comes to measuring call center efficiency. Service level is the percentage of calls answered within a specific number of seconds. In the case of your employer, their ideal time frame is 2 seconds. What is the percentage of calls answered within 2 seconds for each branch and the entire company?"
   ]
  },
  {
   "cell_type": "code",
   "execution_count": 33,
   "id": "2fc8f669",
   "metadata": {},
   "outputs": [
    {
     "name": "stdout",
     "output_type": "stream",
     "text": [
      "number of calls(North) 33\n",
      "North Branch Percentage 40.243902439024396\n",
      "number of calls(south) 48\n",
      "South Branch Percentage 38.095238095238095\n",
      "number of calls(Company wide) 81\n",
      " Company wide Percentage 38.94230769230769\n"
     ]
    }
   ],
   "source": [
    "# Manipulation Question 3 solution below:\n",
    "ndf_within_2_seconds = north_callcenter_df[north_callcenter_df['Incoming Wait Time'] <= 2 ]\n",
    "ndf_incoming = north_callcenter_df[north_callcenter_df[\"Incoming or Outgoing\"] == 'Incoming']\n",
    "print(\"number of calls(North)\",len( ndf_within_2_seconds))\n",
    "npercentage_of_calls = (len(ndf_within_2_seconds) / len(ndf_incoming)) * 100\n",
    "print(\"North Branch Percentage\",npercentage_of_calls)\n",
    "\n",
    "sdf_within_2_seconds = south_callcenter_df[south_callcenter_df['Incoming Wait Time'] <= 2 ]\n",
    "sdf_incoming = south_callcenter_df[south_callcenter_df[\"Incoming or Outgoing\"] == 'Incoming']\n",
    "print(\"number of calls(south)\",len( sdf_within_2_seconds))\n",
    "spercentage_of_calls = (len(sdf_within_2_seconds) / len(sdf_incoming)) * 100\n",
    "print(\"South Branch Percentage\",spercentage_of_calls)\n",
    "\n",
    "df_within_2_seconds = df[df['Incoming Wait Time'] <= 2 ]\n",
    "df_incoming = df[df[\"Incoming or Outgoing\"] == 'Incoming']\n",
    "print(\"number of calls(Company wide)\",len( df_within_2_seconds))\n",
    "percentage_of_calls = (len(df_within_2_seconds) / len(df_incoming)) * 100\n",
    "print(\" Company wide Percentage\",percentage_of_calls)\n",
    "\n"
   ]
  },
  {
   "cell_type": "markdown",
   "id": "e3a4c9d9-4e11-4e1f-859a-d2c919f7d9ce",
   "metadata": {},
   "source": [
    "##### Record your answer below:\n",
    "Percentage of calls answered within 2 seconds, include # of calls:\n",
    "- North Branch = 40.24% (33 calls)\n",
    "- South Branch = 38.10% (48 calls)\n",
    "- Company Wide = 38.94% (81 calls)"
   ]
  },
  {
   "cell_type": "markdown",
   "id": "7e19e705",
   "metadata": {},
   "source": [
    "#### Manipulation Question 4: For each branch and the entire company, what is the average speed of answer?"
   ]
  },
  {
   "cell_type": "code",
   "execution_count": 34,
   "id": "72a653ed",
   "metadata": {},
   "outputs": [
    {
     "name": "stdout",
     "output_type": "stream",
     "text": [
      "3.05\n",
      "3.0\n",
      "3.02\n"
     ]
    }
   ],
   "source": [
    "# Manipulation Question 4 solution below:\n",
    "naverage_speed_df= north_callcenter_df['Incoming Wait Time'].mean().round(2)\n",
    "print(naverage_speed_df)\n",
    "saverage_speed_df = south_callcenter_df['Incoming Wait Time'].mean().round(2)\n",
    "print(saverage_speed_df)\n",
    "average_speed_df=df['Incoming Wait Time'].mean().round(2)\n",
    "print(average_speed_df)"
   ]
  },
  {
   "cell_type": "markdown",
   "id": "fb04c65b-442b-48e1-b22c-b2af8b835ffd",
   "metadata": {},
   "source": [
    "##### Record your answer by below:\n",
    "Average speed of answer (rounded to nearest hundredth):\n",
    "- North Branch in seconds = 3.05\n",
    "- South Branch in seconds = 3.0\n",
    "- Company Wide in seconds = 3.02"
   ]
  },
  {
   "cell_type": "markdown",
   "id": "d5f50a40",
   "metadata": {},
   "source": [
    "## Task 4: Visualization\n",
    "\n",
    "Create a visualization for each of the following questions. Some of the code to handle aggregating and storing data may be written for you. For each visualization, you choose the chart style that you feel suits the situation best. Make note of the chart style you chose and why. \n",
    "\n",
    "*NOTE Some questions you may decide to use more than one chart and or chart style."
   ]
  },
  {
   "cell_type": "markdown",
   "id": "66ccf83c",
   "metadata": {},
   "source": [
    "#### Visualization 1:  What is the average abandonment rate per queue?"
   ]
  },
  {
   "cell_type": "code",
   "execution_count": 35,
   "id": "c971d779",
   "metadata": {},
   "outputs": [
    {
     "name": "stderr",
     "output_type": "stream",
     "text": [
      "C:\\Users\\Shanthi\\AppData\\Local\\Temp\\ipykernel_19880\\3324712708.py:11: FutureWarning: Series.__getitem__ treating keys as positions is deprecated. In a future version, integer keys will always be treated as labels (consistent with DataFrame behavior). To access a value by position, use `ser.iloc[pos]`\n",
      "  abandonment_rates[queues[i]] = queue_dict[\"Abandoned\"][i] / queue_dict[\"Calls\"][i]\n"
     ]
    },
    {
     "data": {
      "text/plain": [
       "Text(0, 0.5, 'Abandonment rates')"
      ]
     },
     "execution_count": 35,
     "metadata": {},
     "output_type": "execute_result"
    },
    {
     "data": {
      "image/png": "[encoded data removed]",
      "text/plain": [
       "<Figure size 640x480 with 1 Axes>"
      ]
     },
     "metadata": {},
     "output_type": "display_data"
    }
   ],
   "source": [
    "# Create visualization 1 here\n",
    "# Import any additional libraries needed with alias\n",
    "import seaborn as sb\n",
    "import matplotlib.pyplot as plt\n",
    "from matplotlib import style \n",
    "# The dictionary abandonment_rates has the data you need.\n",
    "abandonment_rates = {}\n",
    "queues = [\"A\", \"B\", \"C\", \"D\"]\n",
    "queue_dict = df.groupby(\"Queue\").agg(\"sum\")\n",
    "for i in range(4):\n",
    "    abandonment_rates[queues[i]] = queue_dict[\"Abandoned\"][i] / queue_dict[\"Calls\"][i] \n",
    "\n",
    "#Your code below:\n",
    "plt.bar(x=abandonment_rates.keys(), height=abandonment_rates.values(),width=.4, color ='maroon')\n",
    "plt.title(\"Abandonment rate per queue\")\n",
    "plt.xlabel(\"Queue\")\n",
    "plt.ylabel(\"Abandonment rates\")"
   ]
  },
  {
   "cell_type": "markdown",
   "id": "00a821e7-b296-4950-8889-dacf36ef37fb",
   "metadata": {},
   "source": [
    "##### Record your answer below:\n",
    "\n",
    "> Chart style you chose and why:\n",
    ">\n",
    ">        I used the Bar chart for this question.\n",
    ">        Reason\n",
    ">               Using Bar chart we can easily visualize the abandonment rate across various queues and quickly identify which queues have higher or lower average abandonment rates."
   ]
  },
  {
   "cell_type": "raw",
   "id": "9896ab37-0b46-4f89-b503-725e750e8434",
   "metadata": {},
   "source": [
    "#### Visualization 2: What is the service level percentage and average speed of answer for each rep in the North Branch?"
   ]
  },
  {
   "cell_type": "code",
   "execution_count": 86,
   "id": "61f65a7f",
   "metadata": {},
   "outputs": [
    {
     "name": "stdout",
     "output_type": "stream",
     "text": [
      "   Rep ID  Incoming Wait Time  Calls_x  Calls_y  Service Level %\n",
      "0  Amanda            2.400000        3        5        60.000000\n",
      "1    Andy            3.600000        3       10        30.000000\n",
      "2   Brent            2.125000        6        8        75.000000\n",
      "3     Cam            2.909091        5       11        45.454545\n",
      "4    Duke            2.785714        6       14        42.857143\n",
      "5     Joe            3.600000        2       10        20.000000\n",
      "6   Lilly            3.083333        4       12        33.333333\n",
      "7    Todd            3.500000        2        6        33.333333\n",
      "8  Xander            3.333333        2        6        33.333333\n"
     ]
    },
    {
     "data": {
      "image/png": "[encoded data removed]",
      "text/plain": [
       "<Figure size 640x480 with 1 Axes>"
      ]
     },
     "metadata": {},
     "output_type": "display_data"
    }
   ],
   "source": [
    "# Create visualization 2 here\n",
    "# north_plt contains the data you need for the average speed of answer of each rep\n",
    "north_plt = north_callcenter_df.groupby(\"Rep ID\")[\"Incoming Wait Time\"].mean().to_frame().reset_index()\n",
    "\n",
    "# Finding each Rep's Personal Service Level Percentage.  Basically, Calls within 2 secs / total calls\n",
    "\n",
    "# Table 1: Total Incoming calls less than 2 seconds grouped by Rep\n",
    "quick_calls = north_callcenter_df[north_callcenter_df[\"Incoming Wait Time\"] <= 2.0]\n",
    "quick_reps = quick_calls[[\"Rep ID\", \"Calls\"]]\n",
    "quick_stats = quick_reps.groupby([\"Rep ID\"]).sum().reset_index()  # Final Table\n",
    "\n",
    "# Table 2: Total Incoming Calls Only grouped by Rep\n",
    "total_calls_in = north_callcenter_df[north_callcenter_df[\"Incoming or Outgoing\"] == \"Incoming\"]\n",
    "rep_calls = total_calls_in[[\"Rep ID\", \"Calls\"]]     \n",
    "total_stats = rep_calls.groupby([\"Rep ID\"]).sum().reset_index() # Final Table  \n",
    "\n",
    "#  Table 3: Service Level Percentage created via merge\n",
    "service_level = pd.merge(quick_stats, total_stats, on=\"Rep ID\")\n",
    "\n",
    "# Create Percentage Column in Table 3\n",
    "service_level[\"Service Level %\"] = service_level[\"Calls_x\"]/service_level[\"Calls_y\"] * 100\n",
    "\n",
    "grouped_bar_df = pd.merge(north_plt, service_level, on=\"Rep ID\")\n",
    "print(grouped_bar_df)\n",
    "\n",
    "#Your Code Here:\n",
    "\n",
    "# Set up bar width and positions\n",
    "bar_width = 0.35\n",
    "index = np.arange(len(grouped_bar_df['Rep ID']))\n",
    "\n",
    "# Create the grouped bar chart\n",
    "plt.bar(index, grouped_bar_df['Incoming Wait Time'], bar_width, label='Incoming Wait Time')\n",
    "plt.bar(index + bar_width, grouped_bar_df['Service Level %'], bar_width, label='Service Level %')\n",
    "\n",
    "# Add labels and titles\n",
    "plt.xlabel('Rep ID')\n",
    "plt.ylabel('Incoming Wait Time/Service Level %')\n",
    "plt.title('Grouped Bar Chart')\n",
    "plt.xticks(index + bar_width / 2, grouped_bar_df['Rep ID'])\n",
    "\n",
    "# Add legend\n",
    "plt.legend()\n",
    "\n",
    "# Show plot\n",
    "plt.tight_layout()\n",
    "plt.show()"
   ]
  },
  {
   "cell_type": "markdown",
   "id": "4d4cad4d-f9fb-4927-8a45-4b5cd17edd3a",
   "metadata": {},
   "source": [
    "##### Record your answer below:\n",
    "\n",
    "> Chart style you chose and why: I chose\n",
    ">        I chose the grouped bar chart for this use case\n",
    ">        Reasons\n",
    ">              Grouped bar chart is very useful for providing a clear, side-by-side comparisons of multiple metrics (Average incoming wait time, Service level %) across a set of categories (reps)"
   ]
  },
  {
   "cell_type": "markdown",
   "id": "f965e41a",
   "metadata": {},
   "source": [
    "#### Visualization 3: For each type of call purpose, how many calls are outgoing vs. incoming?"
   ]
  },
  {
   "cell_type": "code",
   "execution_count": 91,
   "id": "44096730",
   "metadata": {},
   "outputs": [
    {
     "name": "stdout",
     "output_type": "stream",
     "text": [
      "      Call Purpose Incoming or Outgoing  count\n",
      "0        Complaint             Incoming     51\n",
      "1  Product Support             Outgoing    228\n",
      "2  Product Support             Incoming     82\n",
      "3    Sales Support             Outgoing    123\n",
      "4    Sales Support             Incoming     75\n",
      "Incoming or Outgoing  Incoming  Outgoing\n",
      "Call Purpose                            \n",
      "Complaint                 51.0       0.0\n",
      "Product Support           82.0     228.0\n",
      "Sales Support             75.0     123.0\n"
     ]
    },
    {
     "data": {
      "image/png": "[encoded data removed]",
      "text/plain": [
       "<Figure size 800x500 with 1 Axes>"
      ]
     },
     "metadata": {},
     "output_type": "display_data"
    }
   ],
   "source": [
    "# Create visualization 3 here:\n",
    "# The three dictionaries, complaints, sales_support, and product_support, have the information you need\n",
    "\n",
    "purpose_group = df.groupby(\"Call Purpose\")\n",
    "call_purpose = [\"Complaint\", \"Product Support\", \"Sales Support\"]\n",
    "call_type = [\"Incoming\", \"Outgoing\"]\n",
    "purpose_counts = purpose_group[\"Incoming or Outgoing\"].value_counts()\n",
    "#print(call_purpose)\n",
    "#print(purpose_counts)\n",
    "\n",
    "complaints = purpose_counts[\"Complaint\"].to_dict()\n",
    "sales_support = purpose_counts[\"Sales Support\"].to_dict()\n",
    "product_support = purpose_counts[\"Product Support\"].to_dict()\n",
    "#print(complaints)\n",
    "#print(sales_support)\n",
    "#print(product_support)\n",
    "\n",
    "#Your Code Here:\n",
    "tdf = purpose_counts.reset_index()\n",
    "print(tdf)\n",
    "\n",
    "# Pivot the data to have 'Incoming' and 'Outgoing' as separate columns\n",
    "pivot_df = tdf.pivot(index='Call Purpose', columns='Incoming or Outgoing', values='count').fillna(0)\n",
    "print(pivot_df)\n",
    "\n",
    "# Plotting the stacked bar chart\n",
    "pivot_df.plot(kind='bar', stacked=True, figsize=(8, 5))\n",
    "\n",
    "# Add labels and title\n",
    "plt.xlabel('Call Purpose')\n",
    "plt.ylabel('Call Count')\n",
    "plt.title('Call Purpose with Incoming and Outgoing Call Counts')\n",
    "plt.legend(title='Call Type')\n",
    "plt.xticks(rotation=0)\n",
    "\n",
    "# Show the plot\n",
    "plt.show()"
   ]
  },
  {
   "cell_type": "markdown",
   "id": "9198bbe4-44ef-4e21-bd40-6ace8e9f7694",
   "metadata": {},
   "source": [
    "##### Record your answer below:\n",
    "\n",
    "> Chart style you chose and why:\n",
    ">      I chose the stacked bar chart for this use case\n",
    ">      Reasons\n",
    ">          Stacked bar chart effectively combines total values and sub-category comparisons (incoming vs. outgoing), making it a perfect fit to visualize the incoming/outgoing/total call counts"
   ]
  },
  {
   "cell_type": "markdown",
   "id": "ea7ed568",
   "metadata": {},
   "source": [
    "## Task 5: Summarize Your Work\n",
    "\n",
    "With what you know now about the two call centers and the entire company, answer the following questions. Note that while this is subjective, you should include relevant data to back up your opinion.\n"
   ]
  },
  {
   "cell_type": "markdown",
   "id": "d2fc3d13",
   "metadata": {},
   "source": [
    "#### Summary Question 1:  Using KPIs such as average abandonment rate, service level and average speed of answer, in your opinion, which one of the two branches is operating more efficiently? Why?\n",
    "\n",
    "##### Record your answer below:\n",
    "> Your Answer:\n",
    ">           South is operating more efficiently based on the analysis.\n",
    ">                 Eventhough the service level of North branch is higher than the South, the average abandonment rate and the average speed to answer are higher than the South branch.\n",
    ">\n",
    "> Branch     Average Abandonment Rate     Service Level     Average Speed of Answer\n",
    ">  North             2.86%                   40.24%                3.05\n",
    ">  South             1.27%                   38.10%                3.00\n",
    "> \n"
   ]
  },
  {
   "cell_type": "markdown",
   "id": "489f28d6",
   "metadata": {},
   "source": [
    "#### Summary Question 2: Based on the number of reps in each branch and how quickly the reps are working, in your opinion, which branch would benefit from the extra help?\n",
    "\n",
    "##### Record your answer below:\n",
    "> Your Answer:\n",
    ">       North branch would be benefitted from the extra help based on the analysis\n",
    ">             North branch has less number of reps compared to South branch\n",
    ">             North branch has higher incoming wait time compared to South branch\n",
    ">       With extra help, North branch would be able to take more calls and also reduce the incoming wait time\n",
    "> \n",
    "> Branch     Total Reps     Total Calls   Avg calls per Rep   Incoming wait time\n",
    ">  North          9             245             27.22             3.05\n",
    ">  South          11            314             28.54             3.00\n"
   ]
  },
  {
   "cell_type": "markdown",
   "id": "0b10a8c3",
   "metadata": {},
   "source": [
    "#### Summary Question 3: Now that you have explored the datasets, is there any data or information that you wish you had in this analysis?\n",
    "\n",
    "##### Record your answer below:\n",
    "> Your Answer:\n",
    ">       Call Outcome: Result of the call (e.g., resolved, unresolved, escalated).\n",
    ">       Satisfaction Rating: Customer satisfaction score.\n",
    ">       Resolution Time: Time taken to resolve the issue.\n",
    "> Having these 3 additional column would have helped the analysis further.\n"
   ]
  },
  {
   "cell_type": "markdown",
   "id": "ce16f43d",
   "metadata": {},
   "source": [
    "## Bonus Mission\n",
    "Create a visualization that answers this question: For each call purpose, how many calls (incoming and outgoing) take place in each time block?\n",
    "##### Record your answer below:\n",
    "\n",
    "> Chart style you chose and why: "
   ]
  },
  {
   "cell_type": "code",
   "execution_count": null,
   "id": "71b04f32",
   "metadata": {},
   "outputs": [],
   "source": [
    "# Create your Bonus Mission visualization here!\n",
    "call_times = df[[\"Time Block\", \"Call Purpose\", \"Incoming or Outgoing\", \"Calls\"]]\n",
    "\n",
    "# Use groupby to plot based on time blocks:\n",
    "\n",
    "# Use groupby and get_group to select which call purpose to plot:"
   ]
  }
 ],
 "metadata": {
  "kernelspec": {
   "display_name": "Python 3 (ipykernel)",
   "language": "python",
   "name": "python3"
  },
  "language_info": {
   "codemirror_mode": {
    "name": "ipython",
    "version": 3
   },
   "file_extension": ".py",
   "mimetype": "text/x-python",
   "name": "python",
   "nbconvert_exporter": "python",
   "pygments_lexer": "ipython3",
   "version": "3.12.4"
  }
 },
 "nbformat": 4,
 "nbformat_minor": 5
}
